{
 "cells": [
  {
   "cell_type": "code",
   "execution_count": 3,
   "metadata": {},
   "outputs": [],
   "source": [
    "class Shape:\n",
    "    def __init__(self, sides):\n",
    "        self.sides = sides\n",
    "    \n",
    "    def area(self):\n",
    "        pass\n",
    "    \n",
    "    def perimeter(self):\n",
    "        pass\n",
    "    \n",
    "    def resize(self, scale):\n",
    "        for i in range(len(self.sides)):\n",
    "            self.sides[i] *= scale\n",
    "    \n",
    "    def draw(self):\n",
    "        print(f'Drawing a {str(self)}')\n",
    "        pass"
   ]
  },
  {
   "cell_type": "code",
   "execution_count": 4,
   "metadata": {},
   "outputs": [],
   "source": [
    "import math"
   ]
  },
  {
   "cell_type": "code",
   "execution_count": 5,
   "metadata": {},
   "outputs": [],
   "source": [
    "class Circle(Shape):\n",
    "    def __init__(self, radius):\n",
    "        super().__init__([radius])\n",
    "    \n",
    "    def area(self):\n",
    "        return math.pi * self.sides[0]**2\n",
    "    \n",
    "    def perimeter(self):\n",
    "        return 2 * math.pi * self.sides[0]\n",
    "    \n",
    "    def __str__(self):\n",
    "        return f'circle with perimeter size {self.sides[0]}'"
   ]
  },
  {
   "cell_type": "code",
   "execution_count": 6,
   "metadata": {},
   "outputs": [],
   "source": [
    "class Square(Shape):\n",
    "    def __init__(self, side):\n",
    "        super().__init__([side]*4)\n",
    "    \n",
    "    def area(self):\n",
    "        return self.sides[0]**2\n",
    "    \n",
    "    def perimeter(self):\n",
    "        return 4 * self.sides[0]\n",
    "    \n",
    "    def __str__(self):\n",
    "        return f'square with side length of {self.sides[0]}' "
   ]
  },
  {
   "cell_type": "code",
   "execution_count": 7,
   "metadata": {},
   "outputs": [],
   "source": [
    "class Rectangle(Shape):\n",
    "    def __init__(self, length, width):\n",
    "        super().__init__([length, width, length, width])\n",
    "    \n",
    "    def area(self):\n",
    "        return self.sides[0] * self.sides[1]\n",
    "    \n",
    "    def perimeter(self):\n",
    "        return 2 * (self.sides[0] + self.sides[1])\n",
    "    \n",
    "    def __str__(self):\n",
    "        return f'square with side lengths of {self.sides[0]} and {self.sides[1]}'"
   ]
  },
  {
   "cell_type": "code",
   "execution_count": 8,
   "metadata": {},
   "outputs": [
    {
     "name": "stdout",
     "output_type": "stream",
     "text": [
      "Drawing a circle with perimeter size 5\n",
      "Drawing a square with side length of 10\n",
      "Drawing a square with side lengths of 10 and 5\n"
     ]
    }
   ],
   "source": [
    "# Create some shapes\n",
    "circle = Circle(5)\n",
    "square = Square(10)\n",
    "rectangle = Rectangle(10, 5)\n",
    "\n",
    "# Draw the shapes (not really plots... yet!)\n",
    "circle.draw()\n",
    "square.draw()\n",
    "rectangle.draw()"
   ]
  },
  {
   "cell_type": "code",
   "execution_count": 9,
   "metadata": {},
   "outputs": [
    {
     "name": "stdout",
     "output_type": "stream",
     "text": [
      "Circle area: 78.53981633974483\n",
      "Circle perimeter: 31.41592653589793\n",
      "Square area: 100\n",
      "Square perimeter: 40\n",
      "Rectangle area: 50\n",
      "Rectangle perimeter: 30\n"
     ]
    }
   ],
   "source": [
    "# Get the area and perimeter of each shape\n",
    "print(\"Circle area:\", circle.area()) # Output: Circle area: 78.53981633974483\n",
    "print(\"Circle perimeter:\", circle.perimeter()) # Output: Circle perimeter: 31.41592653589793\n",
    "print(\"Square area:\", square.area()) # Output: Square area: 100\n",
    "print(\"Square perimeter:\", square.perimeter()) # Output: Square perimeter: 40\n",
    "print(\"Rectangle area:\", rectangle.area()) # Output: Rectangle area: 50\n",
    "print(\"Rectangle perimeter:\", rectangle.perimeter()) # Output: Rectangle perimeter: 30"
   ]
  },
  {
   "cell_type": "code",
   "execution_count": 10,
   "metadata": {},
   "outputs": [
    {
     "name": "stdout",
     "output_type": "stream",
     "text": [
      "Drawing a circle with perimeter size 10\n",
      "Drawing a square with side length of 5.0\n",
      "Drawing a square with side lengths of 15.0 and 7.5\n"
     ]
    }
   ],
   "source": [
    "# Resize the shapes\n",
    "circle.resize(2)\n",
    "square.resize(0.5)\n",
    "rectangle.resize(1.5)\n",
    "\n",
    "# \"Draw\" the shapes again\n",
    "circle.draw()\n",
    "square.draw()\n",
    "rectangle.draw()"
   ]
  }
 ],
 "metadata": {
  "kernelspec": {
   "display_name": "Python 3",
   "language": "python",
   "name": "python3"
  },
  "language_info": {
   "codemirror_mode": {
    "name": "ipython",
    "version": 3
   },
   "file_extension": ".py",
   "mimetype": "text/x-python",
   "name": "python",
   "nbconvert_exporter": "python",
   "pygments_lexer": "ipython3",
   "version": "3.11.1"
  },
  "orig_nbformat": 4
 },
 "nbformat": 4,
 "nbformat_minor": 2
}
