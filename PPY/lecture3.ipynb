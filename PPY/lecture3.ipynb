{
 "cells": [
  {
   "cell_type": "code",
   "execution_count": null,
   "metadata": {},
   "outputs": [],
   "source": [
    "if None == None:\n",
    "    print(\"None is equal to None\")\n",
    "else:\n",
    "    print(\"None is not equal to None\")\n"
   ]
  },
  {
   "cell_type": "code",
   "execution_count": null,
   "metadata": {},
   "outputs": [],
   "source": [
    "if None is None:\n",
    "    print(\"None is None\")\n",
    "else:\n",
    "    print(\"None is not None\")"
   ]
  },
  {
   "attachments": {},
   "cell_type": "markdown",
   "metadata": {},
   "source": [
    "Creating a list:\n",
    "To create a list in Python, you can use square brackets [] and separate the elements by commas. For example, to create a list of numbers, you can do this:"
   ]
  },
  {
   "cell_type": "code",
   "execution_count": null,
   "metadata": {},
   "outputs": [],
   "source": [
    "numbers = [1, 2, 3, 4, 5]\n",
    "print(numbers)"
   ]
  },
  {
   "attachments": {},
   "cell_type": "markdown",
   "metadata": {},
   "source": [
    "Accessing elements:\n",
    "You can access elements in a list using indexing. The index starts from 0 for the first element and increases by 1 for each subsequent element. For example, to access the first element of the list we created above, we can use:"
   ]
  },
  {
   "cell_type": "code",
   "execution_count": null,
   "metadata": {},
   "outputs": [],
   "source": [
    "first_number = numbers[0]\n",
    "print(first_number)"
   ]
  },
  {
   "attachments": {},
   "cell_type": "markdown",
   "metadata": {},
   "source": [
    "Modifying elements:\n",
    "You can modify elements in a list by assigning a new value to a specific index. "
   ]
  },
  {
   "cell_type": "code",
   "execution_count": null,
   "metadata": {},
   "outputs": [],
   "source": [
    "numbers[1] = 10\n",
    "print(numbers)"
   ]
  },
  {
   "attachments": {},
   "cell_type": "markdown",
   "metadata": {},
   "source": [
    "Adding elements:\n",
    "You can add elements to a list using the append() method. This adds a new element to the end of the list. "
   ]
  },
  {
   "cell_type": "code",
   "execution_count": null,
   "metadata": {},
   "outputs": [],
   "source": [
    "numbers.append(6)\n",
    "print(numbers)"
   ]
  },
  {
   "attachments": {},
   "cell_type": "markdown",
   "metadata": {},
   "source": [
    "Removing elements:\n",
    "You can remove elements from a list using the remove() method. This removes the first occurrence of the specified element. \n"
   ]
  },
  {
   "cell_type": "code",
   "execution_count": null,
   "metadata": {},
   "outputs": [],
   "source": [
    "numbers.remove(4)\n",
    "print(numbers)"
   ]
  },
  {
   "attachments": {},
   "cell_type": "markdown",
   "metadata": {},
   "source": [
    "Iterating over a list:\n",
    "You can iterate over the elements of a list using a for loop. "
   ]
  },
  {
   "cell_type": "code",
   "execution_count": null,
   "metadata": {},
   "outputs": [],
   "source": [
    "for num in numbers:\n",
    "    print(num)"
   ]
  },
  {
   "attachments": {},
   "cell_type": "markdown",
   "metadata": {},
   "source": [
    "Seznamy(Lists):\n",
    "Seznam je hodnota, která může obsahovat spoustu dalších hodnot. Tak jako řetězec obsahuje sekvenci znaků, seznam obsahuje sekvenci jakýchkoli hodnot. V našem případě obsahuje sekvenci řetězců."
   ]
  },
  {
   "cell_type": "code",
   "execution_count": null,
   "metadata": {},
   "outputs": [],
   "source": [
    "zviratka = ['pes', 'kočka', 'králík']\n",
    "print(zviratka)"
   ]
  },
  {
   "attachments": {},
   "cell_type": "markdown",
   "metadata": {},
   "source": [
    "A tak jako můžeš pomocí cyklu for procházet řetězec po znacích, seznam můžeš procházet po jednotlivých prvcích:"
   ]
  },
  {
   "cell_type": "code",
   "execution_count": null,
   "metadata": {},
   "outputs": [],
   "source": [
    "for zviratko in zviratka:\n",
    "    print(zviratko)"
   ]
  },
  {
   "cell_type": "code",
   "execution_count": null,
   "metadata": {},
   "outputs": [],
   "source": [
    "prvni_prvocisla = [2, 3, 5, 7, 11]\n",
    "seznam = [1, 'abc', True, None, range(10), len]\n",
    "print(seznam)"
   ]
  },
  {
   "cell_type": "code",
   "execution_count": 1,
   "metadata": {},
   "outputs": [
    {
     "name": "stdout",
     "output_type": "stream",
     "text": [
      "['pes', 'kočka', 'králík']\n",
      "['pes', 'kočka', 'králík', 'morče']\n"
     ]
    }
   ],
   "source": [
    "zviratka = ['pes', 'kočka', 'králík']\n",
    "print(zviratka)\n",
    "\n",
    "zviratka.append('morče')\n",
    "print(zviratka)"
   ]
  },
  {
   "cell_type": "code",
   "execution_count": 2,
   "metadata": {},
   "outputs": [
    {
     "name": "stdout",
     "output_type": "stream",
     "text": [
      "[1, 2, 3]\n",
      "[1, 2, 3, 4]\n"
     ]
    }
   ],
   "source": [
    "a = [1, 2, 3]   # Vytvoření seznamu\n",
    "b = a           # Tady se nový seznam nevytváří!\n",
    "\n",
    "# seznam vytvořený v prvním řádku má teď dvě jména: \"a\" a \"b\",\n",
    "# ale stále pracuješ jenom s jedním seznamem\n",
    "\n",
    "print(b)\n",
    "a.append(4)\n",
    "print(b)"
   ]
  },
  {
   "attachments": {},
   "cell_type": "markdown",
   "metadata": {},
   "source": [
    "extend() přidá více prvků najednou,\n",
    "pop() odebere poslední prvek a vrátí ho (jako návratovou hodnotu),\n",
    "insert() přidá prvek na danou pozici,\n",
    "remove() odstraní první výskyt daného prvku,\n",
    "sort() seznam seřadí (řetězce „podle abecedy”, čísla vzestupně),\n",
    "clear() odstraní všechny prvky.\n",
    "reverse() obrátí pořadí prvků,\n",
    "append(), prida prvek na konci"
   ]
  },
  {
   "cell_type": "code",
   "execution_count": 3,
   "metadata": {},
   "outputs": [],
   "source": [
    "zviratka = ['pes', 'kočka', 'králík']\n",
    "zviratka.append('morče')      # ['pes', 'kočka', 'králík', 'morče']\n",
    "zviratka.insert(2, 'had')     # ['pes', 'kočka', 'had', 'králík', 'morče']\n",
    "zviratka.pop()                # ['pes', 'kočka', 'had', 'králík'], vrátí 'morče'\n",
    "zviratka.remove('had')        # ['pes', 'kočka', 'králík']\n",
    "zviratka.sort()               # ['kočka', 'králík', 'pes']\n",
    "zviratka.reverse()            # ['pes', 'králík', 'kočka']\n",
    "zviratka.clear()              # []"
   ]
  },
  {
   "attachments": {},
   "cell_type": "markdown",
   "metadata": {},
   "source": [
    "Často budeš ze seznamu chtít vybrat prvek na určité pozici. To funguje jako u řetězců: do hranatých závorek dáš číslo prvku. Stejně jako u řetězců se čísluje od nuly a záporná čísla číslují od konce."
   ]
  },
  {
   "cell_type": "code",
   "execution_count": null,
   "metadata": {},
   "outputs": [],
   "source": [
    "zviratka = ['pes', 'kočka', 'králík']\n",
    "print(zviratka[2])"
   ]
  },
  {
   "attachments": {},
   "cell_type": "markdown",
   "metadata": {},
   "source": [
    "Hranatými závorkami můžeš získat i podseznam. Diagram z materiálů k řetězcům ukazuje, jak u takového „sekání” číslovat: funguje to stejně, jen místo menšího řetězce dostaneš menší seznam.\n",
    "„Sekáním“ vzniká nový seznam – když pak původní seznam změníš, v novém menším seznamu se to neprojeví."
   ]
  },
  {
   "cell_type": "code",
   "execution_count": null,
   "metadata": {},
   "outputs": [],
   "source": [
    "zviratka = ['pes', 'kočka', 'králík', 'had', 'andulka']\n",
    "print(zviratka[1:-2])"
   ]
  },
  {
   "cell_type": "code",
   "execution_count": 4,
   "metadata": {},
   "outputs": [
    {
     "name": "stdout",
     "output_type": "stream",
     "text": [
      "['pes', 'koťátko', 'králík']\n"
     ]
    }
   ],
   "source": [
    "zviratka = ['pes', 'kočka', 'králík']\n",
    "zviratka[1] = 'koťátko'\n",
    "print(zviratka)"
   ]
  },
  {
   "cell_type": "code",
   "execution_count": 6,
   "metadata": {},
   "outputs": [
    {
     "name": "stdout",
     "output_type": "stream",
     "text": [
      "['kočka', 'králík']\n",
      "['pes', 'koťátko', 'ads', 'králíček', 'had', 'andulka']\n"
     ]
    }
   ],
   "source": [
    "zviratka = ['pes', 'kočka', 'králík', 'had', 'andulka']\n",
    "print(zviratka[1:-2])\n",
    "zviratka[1:-2] = ['koťátko', 'ads','králíček']\n",
    "print(zviratka)"
   ]
  },
  {
   "cell_type": "code",
   "execution_count": 7,
   "metadata": {},
   "outputs": [
    {
     "name": "stdout",
     "output_type": "stream",
     "text": [
      "['pes', 'had', 'ještěrka', 'drak', 'králík']\n",
      "['pes', 'králík']\n"
     ]
    }
   ],
   "source": [
    "zviratka = ['pes', 'kočka', 'králík']\n",
    "zviratka[1:-1] = ['had', 'ještěrka', 'drak']\n",
    "print(zviratka)\n",
    "zviratka[1:-1] = []\n",
    "print(zviratka)"
   ]
  },
  {
   "cell_type": "code",
   "execution_count": 8,
   "metadata": {},
   "outputs": [
    {
     "name": "stdout",
     "output_type": "stream",
     "text": [
      "andulka\n",
      "['pes', 'kočka', 'králík', 'had', 'ještěrka']\n",
      "['kočka', 'králík', 'had']\n",
      "['pes', 'ještěrka']\n"
     ]
    }
   ],
   "source": [
    "zviratka = ['pes', 'kočka', 'králík', 'had', 'ještěrka', 'andulka']\n",
    "\n",
    "# Smazání prvku seznamu\n",
    "print(zviratka[-1])\n",
    "del zviratka[-1]\n",
    "print(zviratka)\n",
    "\n",
    "# Smazání podseznamu\n",
    "print(zviratka[1:-1])\n",
    "del zviratka[1:-1]\n",
    "print(zviratka)"
   ]
  },
  {
   "attachments": {},
   "cell_type": "markdown",
   "metadata": {},
   "source": [
    "Na mazání prvků můžeš použít i metody zmíněné výše:\n",
    "\n",
    "pop odstraní poslední prvek v seznamu a vrátí ho,\n",
    "remove najde v seznamu první výskyt daného prvku a odstraní ho,\n",
    "clear vyprázdní celý seznam."
   ]
  },
  {
   "cell_type": "code",
   "execution_count": null,
   "metadata": {},
   "outputs": [],
   "source": [
    "balicek = ['eso', 'sedma', 'svršek', 'sedma', 'král']\n",
    "liznuta_karta = balicek.pop()\n",
    "print(liznuta_karta)\n",
    "print(balicek)\n",
    "\n",
    "balicek.remove('sedma')\n",
    "print(balicek)\n",
    "\n",
    "balicek.clear()\n",
    "print(balicek)"
   ]
  },
  {
   "cell_type": "code",
   "execution_count": 9,
   "metadata": {},
   "outputs": [
    {
     "name": "stdout",
     "output_type": "stream",
     "text": [
      "[2, 3, 4, 4, 5, 5, 7, 8, 8]\n"
     ]
    }
   ],
   "source": [
    "seznam = [4, 7, 8, 3, 5, 2, 4, 8, 5]\n",
    "seznam.sort()\n",
    "print(seznam)"
   ]
  },
  {
   "cell_type": "code",
   "execution_count": 10,
   "metadata": {},
   "outputs": [
    {
     "name": "stdout",
     "output_type": "stream",
     "text": [
      "[8, 8, 7, 5, 5, 4, 4, 3, 2]\n"
     ]
    }
   ],
   "source": [
    "seznam = [4, 7, 8, 3, 5, 2, 4, 8, 5]\n",
    "seznam.sort(reverse=True)\n",
    "print(seznam)"
   ]
  },
  {
   "cell_type": "code",
   "execution_count": 11,
   "metadata": {},
   "outputs": [
    {
     "name": "stdout",
     "output_type": "stream",
     "text": [
      "['C', 'E', 'G', 'C', 'E', 'G', 'E', 'E', 'D', 'E', 'F', 'D', 'E', 'E', 'D', 'E', 'F', 'D', 'E', 'D', 'C']\n"
     ]
    }
   ],
   "source": [
    "melodie = ['C', 'E', 'G'] * 2 + ['E', 'E', 'D', 'E', 'F', 'D'] * 2 + ['E', 'D', 'C']\n",
    "print(melodie)"
   ]
  },
  {
   "cell_type": "code",
   "execution_count": 12,
   "metadata": {},
   "outputs": [
    {
     "name": "stdout",
     "output_type": "stream",
     "text": [
      "21\n",
      "5\n",
      "8\n",
      "True\n"
     ]
    }
   ],
   "source": [
    "print(len(melodie))         # Délka seznamu\n",
    "print(melodie.count('D'))   # Počet 'D' v seznamu\n",
    "print(melodie.index('D'))   # Číslo prvního 'D'\n",
    "print('D' in melodie)       # Je 'D' v seznamu?"
   ]
  },
  {
   "cell_type": "code",
   "execution_count": 13,
   "metadata": {},
   "outputs": [
    {
     "name": "stdout",
     "output_type": "stream",
     "text": [
      "False\n",
      "0\n"
     ]
    },
    {
     "ename": "ValueError",
     "evalue": "'DE' is not in list",
     "output_type": "error",
     "traceback": [
      "\u001b[0;31m---------------------------------------------------------------------------\u001b[0m",
      "\u001b[0;31mValueError\u001b[0m                                Traceback (most recent call last)",
      "Cell \u001b[0;32mIn[13], line 3\u001b[0m\n\u001b[1;32m      1\u001b[0m \u001b[39mprint\u001b[39m(\u001b[39m'\u001b[39m\u001b[39mDE\u001b[39m\u001b[39m'\u001b[39m \u001b[39min\u001b[39;00m melodie)\n\u001b[1;32m      2\u001b[0m \u001b[39mprint\u001b[39m(melodie\u001b[39m.\u001b[39mcount(\u001b[39m'\u001b[39m\u001b[39mDE\u001b[39m\u001b[39m'\u001b[39m))\n\u001b[0;32m----> 3\u001b[0m \u001b[39mprint\u001b[39m(melodie\u001b[39m.\u001b[39;49mindex(\u001b[39m'\u001b[39;49m\u001b[39mDE\u001b[39;49m\u001b[39m'\u001b[39;49m))\n",
      "\u001b[0;31mValueError\u001b[0m: 'DE' is not in list"
     ]
    }
   ],
   "source": [
    "print('DE' in melodie)\n",
    "print(melodie.count('DE'))\n",
    "print(melodie.index('DE'))"
   ]
  },
  {
   "attachments": {},
   "cell_type": "markdown",
   "metadata": {},
   "source": [
    "Seznam můžeš použít v příkazu if (nebo while) jako podmínku, která platí, když v tom seznamu něco je. Jinými slovy, seznam je tu „zkratka“ pro len(seznam) > 0."
   ]
  },
  {
   "cell_type": "code",
   "execution_count": 14,
   "metadata": {},
   "outputs": [
    {
     "name": "stdout",
     "output_type": "stream",
     "text": [
      "V seznamu něco je!\n"
     ]
    }
   ],
   "source": [
    "if seznam:\n",
    "    print('V seznamu něco je!')\n",
    "else:\n",
    "    print('Seznam je prázdný!')\n"
   ]
  },
  {
   "cell_type": "code",
   "execution_count": 15,
   "metadata": {},
   "outputs": [
    {
     "name": "stdout",
     "output_type": "stream",
     "text": [
      "['a', 'b', 'c', 'd', 'e', 'f', 'g', 'h', 'i', 'j', 'k', 'l', 'm', 'n', 'o', 'p', 'q', 'r', 's', 't', 'u', 'v', 'w', 'x', 'y', 'z']\n",
      "[0, 1, 2, 3, 4, 5, 6, 7, 8, 9, 10, 11, 12, 13, 14, 15, 16, 17, 18, 19, 20, 21, 22, 23, 24, 25, 26, 27, 28, 29, 30, 31, 32, 33, 34, 35, 36, 37, 38, 39, 40, 41, 42, 43, 44, 45, 46, 47, 48, 49, 50, 51, 52, 53, 54, 55, 56, 57, 58, 59, 60, 61, 62, 63, 64, 65, 66, 67, 68, 69, 70, 71, 72, 73, 74, 75, 76, 77, 78, 79, 80, 81, 82, 83, 84, 85, 86, 87, 88, 89, 90, 91, 92, 93, 94, 95, 96, 97, 98, 99]\n"
     ]
    }
   ],
   "source": [
    "abeceda = list('abcdefghijklmnopqrstuvwxyz')\n",
    "cisla = list(range(100))\n",
    "print(abeceda)\n",
    "print(cisla)"
   ]
  },
  {
   "attachments": {},
   "cell_type": "markdown",
   "metadata": {},
   "source": [
    "I ze seznamu udělá funkce list seznam. To může znít zbytečně, ale není – vytvoří se totiž nový seznam. Bude mít sice stejné prvky ve stejném pořadí, ale nebude to ten samý seznam: měnit se bude nezávisle na tom starém."
   ]
  },
  {
   "cell_type": "code",
   "execution_count": 16,
   "metadata": {},
   "outputs": [
    {
     "name": "stdout",
     "output_type": "stream",
     "text": [
      "[1, 2, 3]\n",
      "[1, 2, 3]\n",
      "[1, 2, 3, 4]\n"
     ]
    }
   ],
   "source": [
    "a = [1, 2, 3]\n",
    "b = list(a)\n",
    "\n",
    "print(b)\n",
    "a.append(4)\n",
    "print(b)\n",
    "print(a)"
   ]
  },
  {
   "attachments": {},
   "cell_type": "markdown",
   "metadata": {},
   "source": [
    "Další způsob, jak tvořit seznamy (zvláště složitější), je nejdřív udělat prázdný seznam a pak ho postupně naplnit pomocí funkce append. Třeba pokud z nějakého důvodu chceš seznam mocnin dvou, projdi čísla, kterými chceš mocnit, cyklem for a pro každé z nich do seznamu přidej příslušnou mocninu:"
   ]
  },
  {
   "cell_type": "code",
   "execution_count": 17,
   "metadata": {},
   "outputs": [
    {
     "name": "stdout",
     "output_type": "stream",
     "text": [
      "[1, 2, 4, 8, 16, 32, 64, 128, 256, 512]\n"
     ]
    }
   ],
   "source": [
    "mocniny_dvou = []\n",
    "for cislo in range(10):\n",
    "    mocniny_dvou.append(2 ** cislo)\n",
    "print(mocniny_dvou)"
   ]
  },
  {
   "cell_type": "code",
   "execution_count": 18,
   "metadata": {},
   "outputs": [
    {
     "name": "stdout",
     "output_type": "stream",
     "text": [
      "['matka', 'babička', 'prababička', 'praprababička', 'prapraprababička', 'praprapraprababička', 'prapraprapraprababička', 'praprapraprapraprababička', 'prapraprapraprapraprababička', 'praprapraprapraprapraprababička', 'prapraprapraprapraprapraprababička']\n"
     ]
    }
   ],
   "source": [
    "predkove = ['matka']\n",
    "for pocet_pra in range(10):\n",
    "    predkove.append(('pra' * pocet_pra) + 'babička')\n",
    "print(predkove)"
   ]
  },
  {
   "attachments": {},
   "cell_type": "markdown",
   "metadata": {},
   "source": [
    "Chceš-li seznam, který reprezentuje balíček karet, zavolej append pro všechny kombinace barev a hodnot. Neboli česky:\n",
    "\n",
    "Začni s prázdným balíčkem.\n",
    "Pro každou ze čtyř barev (přidáme 13 karet té barvy, a to následovně):\n",
    "Pro každou ze 13 hodnot, 2-10 a 4 karty s obrázkem:\n",
    "Přidej do balíčku kartu s danou barvou a hodnotou.\n",
    "Balíček je hotový, vypiš ho.\n",
    "Takový program může být trochu složitější vymyslet. Začít můžeš programem, který všechny karty jen vypíše:"
   ]
  },
  {
   "cell_type": "code",
   "execution_count": 19,
   "metadata": {},
   "outputs": [
    {
     "name": "stdout",
     "output_type": "stream",
     "text": [
      "2 ♠\n",
      "3 ♠\n",
      "4 ♠\n",
      "5 ♠\n",
      "6 ♠\n",
      "7 ♠\n",
      "8 ♠\n",
      "9 ♠\n",
      "10 ♠\n",
      "J ♠\n",
      "Q ♠\n",
      "K ♠\n",
      "A ♠\n",
      "2 ♥\n",
      "3 ♥\n",
      "4 ♥\n",
      "5 ♥\n",
      "6 ♥\n",
      "7 ♥\n",
      "8 ♥\n",
      "9 ♥\n",
      "10 ♥\n",
      "J ♥\n",
      "Q ♥\n",
      "K ♥\n",
      "A ♥\n",
      "2 ♦\n",
      "3 ♦\n",
      "4 ♦\n",
      "5 ♦\n",
      "6 ♦\n",
      "7 ♦\n",
      "8 ♦\n",
      "9 ♦\n",
      "10 ♦\n",
      "J ♦\n",
      "Q ♦\n",
      "K ♦\n",
      "A ♦\n",
      "2 ♣\n",
      "3 ♣\n",
      "4 ♣\n",
      "5 ♣\n",
      "6 ♣\n",
      "7 ♣\n",
      "8 ♣\n",
      "9 ♣\n",
      "10 ♣\n",
      "J ♣\n",
      "Q ♣\n",
      "K ♣\n",
      "A ♣\n"
     ]
    }
   ],
   "source": [
    "for barva in '♠', '♥', '♦', '♣':\n",
    "    for hodnota in ['2', '3', '4', '5', '6', '7', '8', '9', '10', 'J', 'Q', 'K', 'A']:\n",
    "        print(hodnota, barva)"
   ]
  },
  {
   "cell_type": "code",
   "execution_count": 20,
   "metadata": {},
   "outputs": [
    {
     "name": "stdout",
     "output_type": "stream",
     "text": [
      "['2♠', '3♠', '4♠', '5♠', '6♠', '7♠', '8♠', '9♠', '10♠', 'J♠', 'Q♠', 'K♠', 'A♠', '2♥', '3♥', '4♥', '5♥', '6♥', '7♥', '8♥', '9♥', '10♥', 'J♥', 'Q♥', 'K♥', 'A♥', '2♦', '3♦', '4♦', '5♦', '6♦', '7♦', '8♦', '9♦', '10♦', 'J♦', 'Q♦', 'K♦', 'A♦', '2♣', '3♣', '4♣', '5♣', '6♣', '7♣', '8♣', '9♣', '10♣', 'J♣', 'Q♣', 'K♣', 'A♣']\n"
     ]
    }
   ],
   "source": [
    "balicek = []\n",
    "for barva in '♠', '♥', '♦', '♣':\n",
    "    for hodnota in ['2', '3', '4', '5', '6', '7', '8', '9', '10', 'J', 'Q', 'K', 'A']:\n",
    "        balicek.append(hodnota + barva)\n",
    "print(balicek)"
   ]
  },
  {
   "cell_type": "code",
   "execution_count": 21,
   "metadata": {},
   "outputs": [
    {
     "name": "stdout",
     "output_type": "stream",
     "text": [
      "['Tato', 'věta', 'je', 'složitá,', 'rozdělme', 'ji', 'na', 'slova!']\n"
     ]
    }
   ],
   "source": [
    "slova = 'Tato věta je složitá, rozdělme ji na slova!'.split()\n",
    "print(slova)"
   ]
  },
  {
   "cell_type": "code",
   "execution_count": 22,
   "metadata": {},
   "outputs": [
    {
     "name": "stdout",
     "output_type": "stream",
     "text": [
      "['3A', '8B', '2E', '9D']\n"
     ]
    }
   ],
   "source": [
    "zaznamy = '3A,8B,2E,9D'.split(',')\n",
    "print(zaznamy)"
   ]
  },
  {
   "cell_type": "code",
   "execution_count": 23,
   "metadata": {},
   "outputs": [
    {
     "name": "stdout",
     "output_type": "stream",
     "text": [
      "Tato věta je složitá, rozdělme ji na slova!\n"
     ]
    }
   ],
   "source": [
    "veta = ' '.join(slova)\n",
    "print(veta)"
   ]
  },
  {
   "attachments": {},
   "cell_type": "markdown",
   "metadata": {},
   "source": [
    "náhodou: třeba nám už známou random.randrange. Podívejme se na dvě další, které se hodí k seznamům.\n",
    "\n",
    "Funkce shuffle seznam „zamíchá” – všechny prvky náhodně popřehází. Seznam změní „na místě“ a nic nevrací, podobně jako metoda sort."
   ]
  },
  {
   "cell_type": "code",
   "execution_count": 24,
   "metadata": {},
   "outputs": [
    {
     "name": "stdout",
     "output_type": "stream",
     "text": [
      "['2♠', '3♠', '4♠', '5♠', '6♠', '7♠', '8♠', '9♠', '10♠', 'J♠', 'Q♠', 'K♠', 'A♠', '2♥', '3♥', '4♥', '5♥', '6♥', '7♥', '8♥', '9♥', '10♥', 'J♥', 'Q♥', 'K♥', 'A♥', '2♦', '3♦', '4♦', '5♦', '6♦', '7♦', '8♦', '9♦', '10♦', 'J♦', 'Q♦', 'K♦', 'A♦', '2♣', '3♣', '4♣', '5♣', '6♣', '7♣', '8♣', '9♣', '10♣', 'J♣', 'Q♣', 'K♣', 'A♣']\n",
      "['3♦', '7♦', '3♠', '4♣', 'A♣', '9♣', '5♠', 'Q♣', '6♦', '7♣', '9♦', '3♥', '9♥', 'Q♥', '8♠', '5♣', 'Q♦', '8♥', '10♦', '2♣', '6♣', '4♦', '7♠', '2♦', '8♦', '5♦', 'J♠', 'J♦', '5♥', '4♥', 'A♠', '9♠', 'K♣', '10♥', '10♠', 'A♥', '4♠', 'J♣', '10♣', '8♣', '6♠', '2♥', 'K♦', '7♥', '3♣', '2♠', 'J♥', 'A♦', 'K♠', 'Q♠', 'K♥', '6♥']\n"
     ]
    }
   ],
   "source": [
    "import random\n",
    "\n",
    "ciselne_hodnoty = list(range(2, 11))\n",
    "pismenne_hodnoty = list('JQKA')\n",
    "\n",
    "balicek = []\n",
    "for barva in '♠', '♥', '♦', '♣':\n",
    "    for hodnota in ciselne_hodnoty + pismenne_hodnoty:\n",
    "        balicek.append(str(hodnota) + barva)\n",
    "print(balicek)\n",
    "\n",
    "random.shuffle(balicek)\n",
    "print(balicek)"
   ]
  },
  {
   "cell_type": "code",
   "execution_count": 29,
   "metadata": {},
   "outputs": [
    {
     "name": "stdout",
     "output_type": "stream",
     "text": [
      "papír\n"
     ]
    }
   ],
   "source": [
    "import random\n",
    "mozne_tahy = ['kámen', 'nůžky', 'papír']\n",
    "tah_pocitace = random.choice(mozne_tahy)\n",
    "print(tah_pocitace)"
   ]
  },
  {
   "attachments": {},
   "cell_type": "markdown",
   "metadata": {},
   "source": [
    "uples are another built-in data type in Python that are used to store collections of items, similar to lists. However, there are some key differences between tuples and lists:\n",
    "\n",
    "Syntax:\n",
    "Tuples are created using parentheses () instead of square brackets []. "
   ]
  },
  {
   "cell_type": "code",
   "execution_count": 30,
   "metadata": {},
   "outputs": [
    {
     "name": "stdout",
     "output_type": "stream",
     "text": [
      "(1, 2, 3, 4, 5)\n"
     ]
    }
   ],
   "source": [
    "numbers = (1, 2, 3, 4, 5)\n",
    "print(numbers)"
   ]
  },
  {
   "cell_type": "code",
   "execution_count": 31,
   "metadata": {},
   "outputs": [
    {
     "name": "stdout",
     "output_type": "stream",
     "text": [
      "[1, 2, 3, 4, 5]\n",
      "<class 'list'>\n",
      "<class 'tuple'>\n"
     ]
    }
   ],
   "source": [
    "numbers_list = [1, 2, 3, 4, 5]\n",
    "print(numbers_list)\n",
    "print(type(numbers_list))\n",
    "print(type(numbers))"
   ]
  },
  {
   "attachments": {},
   "cell_type": "markdown",
   "metadata": {},
   "source": [
    "Immutability:\n",
    "The most significant difference between tuples and lists is that tuples are immutable, meaning they cannot be changed once they are created. This means that you cannot add, remove, or modify elements in a tuple. If you try to modify a tuple, you'll get a TypeError."
   ]
  },
  {
   "cell_type": "code",
   "execution_count": 32,
   "metadata": {},
   "outputs": [
    {
     "name": "stdout",
     "output_type": "stream",
     "text": [
      "2\n"
     ]
    },
    {
     "ename": "TypeError",
     "evalue": "'tuple' object does not support item assignment",
     "output_type": "error",
     "traceback": [
      "\u001b[0;31m---------------------------------------------------------------------------\u001b[0m",
      "\u001b[0;31mTypeError\u001b[0m                                 Traceback (most recent call last)",
      "Cell \u001b[0;32mIn[32], line 2\u001b[0m\n\u001b[1;32m      1\u001b[0m \u001b[39mprint\u001b[39m(numbers[\u001b[39m1\u001b[39m])\n\u001b[0;32m----> 2\u001b[0m numbers[\u001b[39m1\u001b[39;49m] \u001b[39m=\u001b[39m \u001b[39m10\u001b[39m\n",
      "\u001b[0;31mTypeError\u001b[0m: 'tuple' object does not support item assignment"
     ]
    }
   ],
   "source": [
    "print(numbers[1])\n",
    "numbers[1] = 10"
   ]
  },
  {
   "attachments": {},
   "cell_type": "markdown",
   "metadata": {},
   "source": [
    "Uses:\n",
    "Tuples are often used to represent fixed collections of data, such as the coordinates of a point, the RGB values of a color, or the components of a date.\n",
    "\n",
    "Despite these differences, tuples and lists are related in that they are both used to store collections of items in Python. They are also similar in that you can use indexing to access individual elements, and you can use loops to iterate over the elements of both tuples and lists."
   ]
  },
  {
   "attachments": {},
   "cell_type": "markdown",
   "metadata": {},
   "source": [
    "Sets\n",
    "\n",
    "Sets are another built-in data type in Python that represent a collection of unique elements.\n",
    "\n",
    "Unlike lists and tuples, which can contain duplicate elements, a set only contains each unique element once.\n",
    "\n",
    "Creating a set:\n",
    "To create a set in Python, you can use curly braces {} or the set() function. For example, to create a set of numbers, you can do this:"
   ]
  },
  {
   "cell_type": "code",
   "execution_count": 33,
   "metadata": {},
   "outputs": [
    {
     "name": "stdout",
     "output_type": "stream",
     "text": [
      "{1, 2, 3, 4, 5}\n",
      "{1, 2, 3, 4, 5}\n"
     ]
    }
   ],
   "source": [
    "numbers_set = {1, 2, 3, 4, 5}\n",
    "print(numbers_set)\n",
    "# or\n",
    "numbers_set = set([1, 2, 3, 4, 5])\n",
    "print(numbers_set)"
   ]
  },
  {
   "cell_type": "code",
   "execution_count": 34,
   "metadata": {},
   "outputs": [
    {
     "name": "stdout",
     "output_type": "stream",
     "text": [
      "{1, 2, 3, 4, 5}\n"
     ]
    }
   ],
   "source": [
    "numbers_set = {1, 2, 3, 4, 5, 5}  # notice the second \"5\"!\n",
    "print(numbers_set)"
   ]
  },
  {
   "cell_type": "code",
   "execution_count": 35,
   "metadata": {},
   "outputs": [
    {
     "name": "stdout",
     "output_type": "stream",
     "text": [
      "{1, 2, 3, 4, 5, 6}\n"
     ]
    }
   ],
   "source": [
    "numbers_set.add(6)\n",
    "print(numbers_set)"
   ]
  },
  {
   "cell_type": "code",
   "execution_count": 36,
   "metadata": {},
   "outputs": [
    {
     "name": "stdout",
     "output_type": "stream",
     "text": [
      "{1, 2, 3, 5, 6}\n"
     ]
    }
   ],
   "source": [
    "numbers_set.remove(4)\n",
    "print(numbers_set)"
   ]
  },
  {
   "attachments": {},
   "cell_type": "markdown",
   "metadata": {},
   "source": [
    "Set operations:\n",
    "Sets support a variety of operations for working with sets, including union, intersection, and difference. For example, to find the union of two sets, you can use the union() method or the | operator. To find the intersection of two sets, you can use the intersection() method or the & operator. To find the difference between two sets, you can use the difference() method or the - operator."
   ]
  },
  {
   "cell_type": "code",
   "execution_count": 37,
   "metadata": {},
   "outputs": [
    {
     "name": "stdout",
     "output_type": "stream",
     "text": [
      "{1, 2, 3, 5, 6}\n",
      "{1, 2, 3, 100, 5, 6}\n",
      "{3}\n",
      "{1, 2, 5, 6}\n"
     ]
    }
   ],
   "source": [
    "print(numbers_set)\n",
    "print(numbers_set.union(set([3, 100])))\n",
    "print(numbers_set.intersection(set([3, 100])))\n",
    "print(numbers_set.difference(set([3, 100])))"
   ]
  },
  {
   "cell_type": "code",
   "execution_count": 38,
   "metadata": {},
   "outputs": [
    {
     "name": "stdout",
     "output_type": "stream",
     "text": [
      "1\n",
      "2\n",
      "3\n",
      "5\n",
      "6\n"
     ]
    }
   ],
   "source": [
    "for num in numbers_set:\n",
    "    print(num)"
   ]
  },
  {
   "attachments": {},
   "cell_type": "markdown",
   "metadata": {},
   "source": [
    "Dictionaries\n",
    "\n",
    "Dictionaries are another built-in data type in Python. Dictionaries allow you to store a collection of key-value pairs. Each key in the dictionary maps to a value, allowing you to easily look up values based on their associated keys.\n",
    "\n",
    "Creating a dictionary:\n",
    "To create a dictionary in Python, you can use curly braces {} and separate the keys and values with colons. For example, to create a dictionary of ages for a group of people, you can do this:"
   ]
  },
  {
   "cell_type": "code",
   "execution_count": null,
   "metadata": {},
   "outputs": [],
   "source": [
    "ages = {\"Alice\": 25, \"Bob\": 30, \"Charlie\": 35}\n",
    "print(ages)"
   ]
  },
  {
   "attachments": {},
   "cell_type": "markdown",
   "metadata": {},
   "source": [
    "Accessing values:\n",
    "You can access the value associated with a key in a dictionary by using the key inside square brackets []. For example, to access Alice's age from the ages dictionary above, you can do:"
   ]
  },
  {
   "cell_type": "code",
   "execution_count": null,
   "metadata": {},
   "outputs": [],
   "source": [
    "alice_age = ages[\"Alice\"]\n",
    "print(alice_age)"
   ]
  },
  {
   "attachments": {},
   "cell_type": "markdown",
   "metadata": {},
   "source": [
    "Modifying values:\n",
    "You can modify the value associated with a key in a dictionary by assigning a new value to the key. For example, to change Bob's age to 32 in the ages dictionary, you can do:"
   ]
  },
  {
   "cell_type": "code",
   "execution_count": null,
   "metadata": {},
   "outputs": [],
   "source": [
    "ages[\"Bob\"] = 32\n",
    "print(ages)"
   ]
  },
  {
   "cell_type": "code",
   "execution_count": null,
   "metadata": {},
   "outputs": [],
   "source": [
    "ages[\"David\"] = 28\n",
    "print(ages)"
   ]
  },
  {
   "cell_type": "code",
   "execution_count": null,
   "metadata": {},
   "outputs": [],
   "source": [
    "del ages[\"Charlie\"]\n",
    "print(ages)"
   ]
  },
  {
   "cell_type": "code",
   "execution_count": null,
   "metadata": {},
   "outputs": [],
   "source": [
    "for name, age in ages.items():\n",
    "    print(name + \" is \" + str(age) + \" years old\")"
   ]
  },
  {
   "attachments": {},
   "cell_type": "markdown",
   "metadata": {},
   "source": [
    "Iterators\n",
    "\n",
    "Iterators and generators are two related concepts in Python that allow you to iterate over a sequence of values.\n",
    "\n",
    "An iterator is an object that implements the iterator protocol, which means it provides a __next__() method that returns the next value in the sequence, and raises a StopIteration exception when there are no more values. The iter() function can be used to create an iterator from an iterable object.\n",
    "\n",
    "Here's an example of using an iterator in Python:"
   ]
  },
  {
   "cell_type": "code",
   "execution_count": 39,
   "metadata": {},
   "outputs": [
    {
     "name": "stdout",
     "output_type": "stream",
     "text": [
      "1\n",
      "2\n",
      "3\n"
     ]
    }
   ],
   "source": [
    "numbers = [1, 2, 3, 4, 5]\n",
    "iter_numbers = iter(numbers)\n",
    "\n",
    "print(next(iter_numbers))  # prints 1\n",
    "print(next(iter_numbers))  # prints 2\n",
    "print(next(iter_numbers))  # prints 3"
   ]
  },
  {
   "attachments": {},
   "cell_type": "markdown",
   "metadata": {},
   "source": [
    "A generator is a special type of iterator that is defined using a function and the yield keyword. When a generator is called, it returns an iterator that can be used to iterate over the values produced by the generator. Each time the yield keyword is encountered, the current value is returned and the state of the generator is saved, so that the next time the generator is called, it picks up where it left off"
   ]
  },
  {
   "cell_type": "code",
   "execution_count": null,
   "metadata": {},
   "outputs": [],
   "source": [
    "def count_up_to(n):\n",
    "    i = 1\n",
    "    while i <= n:\n",
    "        yield i\n",
    "        i += 1\n",
    "\n",
    "for num in count_up_to(5):\n",
    "    print(num)"
   ]
  },
  {
   "attachments": {},
   "cell_type": "markdown",
   "metadata": {},
   "source": [
    "Generators\n",
    "\n",
    "are useful when you need to generate a sequence of values that can't be generated all at once, or when you don't want to store the entire sequence in memory at once\n",
    "can also be used to create infinite sequences, since the generator function can continue yielding values indefinitely."
   ]
  },
  {
   "attachments": {},
   "cell_type": "markdown",
   "metadata": {},
   "source": [
    "Comprehensions\n",
    "\n",
    "Comprehensions are a concise way to create iterables in Python. They are related to iterators in that they allow you to create iterables using a compact syntax.\n",
    "\n",
    "There are two types of comprehensions in Python: list comprehensions and generator comprehensions. Both types of comprehensions allow you to create iterables using a similar syntax, but they have different memory usage and performance characteristics.\n",
    "\n",
    "List comprehensions are a way to create lists using a compact syntax. They allow you to iterate over a sequence of values and apply an expression to each value, creating a new list of the resulting values. Here's an example of using a list comprehension to create a list of the squares of the numbers 1 to 5:"
   ]
  },
  {
   "cell_type": "code",
   "execution_count": 40,
   "metadata": {},
   "outputs": [
    {
     "name": "stdout",
     "output_type": "stream",
     "text": [
      "[1, 4, 9, 16, 25]\n"
     ]
    }
   ],
   "source": [
    "squares = [x**2 for x in range(1, 6)]\n",
    "print(squares)"
   ]
  },
  {
   "cell_type": "code",
   "execution_count": 41,
   "metadata": {},
   "outputs": [
    {
     "name": "stdout",
     "output_type": "stream",
     "text": [
      "[4, 16]\n"
     ]
    }
   ],
   "source": [
    "squares_even = [x**2 for x in range(1, 6) if x % 2 == 0]\n",
    "print(squares_even)"
   ]
  },
  {
   "cell_type": "code",
   "execution_count": null,
   "metadata": {},
   "outputs": [],
   "source": [
    "words = ['Apple', 'Banana', 'Sea']\n",
    "word_lengths = {x:len(x) for x in words}\n",
    "print(word_lengths)"
   ]
  },
  {
   "cell_type": "code",
   "execution_count": null,
   "metadata": {},
   "outputs": [],
   "source": [
    "numbers = [1, 2, 2, 3, 4, 5, 6]\n",
    "evens = {x for x in numbers if x % 2 == 0}\n",
    "print(evens)"
   ]
  },
  {
   "attachments": {},
   "cell_type": "markdown",
   "metadata": {},
   "source": [
    "Generator comprehensions are a way to create generators using a similar syntax. They allow you to iterate over a sequence of values and apply an expression to each value, creating a generator that yields the resulting values one at a time. Here's an example of using a generator comprehension to create a generator that yields the cubes of the numbers 1 to 5:"
   ]
  },
  {
   "cell_type": "code",
   "execution_count": null,
   "metadata": {},
   "outputs": [],
   "source": [
    "cubes = (x**3 for x in range(1, 6))\n",
    "for cube in cubes:\n",
    "    print(cube)"
   ]
  },
  {
   "attachments": {},
   "cell_type": "markdown",
   "metadata": {},
   "source": [
    "Both list comprehensions and generator comprehensions are related to iterators in that they allow you to create iterables using a concise syntax. List comprehensions create a new list in memory, while generator comprehensions create a generator that yields values one at a time, allowing you to work with large or infinite sequences of values without consuming a lot of memory."
   ]
  },
  {
   "cell_type": "code",
   "execution_count": 42,
   "metadata": {},
   "outputs": [
    {
     "data": {
      "text/plain": [
       "['Olleh', 'Dlrow']"
      ]
     },
     "execution_count": 42,
     "metadata": {},
     "output_type": "execute_result"
    }
   ],
   "source": [
    "[token[::-1].capitalize() for token in 'Hello World'.split(' ')]"
   ]
  },
  {
   "cell_type": "code",
   "execution_count": null,
   "metadata": {},
   "outputs": [],
   "source": [
    "def homework(input_str):\n",
    "    # insert your code here!\n",
    "print(homework('apple'))"
   ]
  },
  {
   "attachments": {},
   "cell_type": "markdown",
   "metadata": {},
   "source": [
    "Homework for today\n",
    "\n",
    "Write a Python function that takes a string as input and returns a dictionary that maps each character in the string to its frequency. Use a dictionary comprehension to create the dictionary.\n",
    "{'a': 1, 'l': 1, 'p': 2, 'e': 1}"
   ]
  }
 ],
 "metadata": {
  "kernelspec": {
   "display_name": "Python 3",
   "language": "python",
   "name": "python3"
  },
  "language_info": {
   "codemirror_mode": {
    "name": "ipython",
    "version": 3
   },
   "file_extension": ".py",
   "mimetype": "text/x-python",
   "name": "python",
   "nbconvert_exporter": "python",
   "pygments_lexer": "ipython3",
   "version": "3.11.1"
  },
  "orig_nbformat": 4,
  "vscode": {
   "interpreter": {
    "hash": "aee8b7b246df8f9039afb4144a1f6fd8d2ca17a180786b69acc140d282b71a49"
   }
  }
 },
 "nbformat": 4,
 "nbformat_minor": 2
}
