{
 "cells": [
  {
   "cell_type": "code",
   "execution_count": 2,
   "metadata": {},
   "outputs": [],
   "source": [
    "!echo \"Hello World\" >> example.txt"
   ]
  },
  {
   "cell_type": "code",
   "execution_count": 3,
   "metadata": {},
   "outputs": [
    {
     "name": "stdout",
     "output_type": "stream",
     "text": [
      "Hello World\n",
      "\n"
     ]
    }
   ],
   "source": [
    "# Open the file in read mode\n",
    "file = open(\"example.txt\", \"r\")\n",
    "\n",
    "# Read the entire contents of the file\n",
    "contents = file.read()\n",
    "\n",
    "# Print the contents of the file\n",
    "print(contents)\n",
    "\n",
    "# Close the file\n",
    "file.close()"
   ]
  },
  {
   "cell_type": "code",
   "execution_count": 5,
   "metadata": {},
   "outputs": [],
   "source": [
    "# Open the file in write mode\n",
    "file = open(\"example.txt\", \"w\")\n",
    "\n",
    "# Write data to the file\n",
    "file.write(\"Hello, world!\")\n",
    "\n",
    "# Close the file\n",
    "file.close()"
   ]
  },
  {
   "attachments": {},
   "cell_type": "markdown",
   "metadata": {},
   "source": [
    "n Python, you can use the os module to list the contents of a directory and differentiate between directories and files. The os module provides a range of functions for interacting with the operating system, including working with files and directories.\n",
    "\n",
    "Here is an example of how to list the contents of a directory and differentiate between directories and files:"
   ]
  },
  {
   "cell_type": "code",
   "execution_count": 6,
   "metadata": {},
   "outputs": [
    {
     "name": "stdout",
     "output_type": "stream",
     "text": [
      "lecture4.ipynb is a file\n",
      ".DS_Store is a file\n",
      "lecture3.ipynb is a file\n",
      "prednaska2.ipynb is a file\n",
      "example.txt is a file\n",
      ".ipynb_checkpoints is a directory\n",
      "prednaska1.py is a file\n"
     ]
    }
   ],
   "source": [
    "import os\n",
    "\n",
    "# List the contents of the current directory\n",
    "for filename in os.listdir(\".\"):\n",
    "    # Get the full path of the file/directory\n",
    "    path = os.path.join(\".\", filename)\n",
    "    # Check if the path is a directory\n",
    "    if os.path.isdir(path):\n",
    "        print(f\"{filename} is a directory\")\n",
    "    # Otherwise, it must be a file\n",
    "    else:\n",
    "        print(f\"{filename} is a file\")\n"
   ]
  },
  {
   "attachments": {},
   "cell_type": "markdown",
   "metadata": {},
   "source": [
    "In this example, we use the listdir() function to list the contents of the current directory. For each filename in the list, we use the join() function to get the full path of the file or directory. We then use the isdir() function to check if the path is a directory or a file, and print a message indicating which one it is.\n",
    "\n",
    "You can replace the . argument in the listdir() function with the path of any directory you want to list the contents of.\n",
    "\n",
    "Note that the os module also provides several other functions for working with files and directories, such as os.path.isfile(), os.path.isdir(), and os.path.exists(). These functions can be used to perform more advanced operations on files and directories."
   ]
  },
  {
   "attachments": {},
   "cell_type": "markdown",
   "metadata": {},
   "source": [
    "Write a Python function that takes a list of numbers as input and returns a new list that contains only the even numbers from the original list. Use a list comprehension to create the new list."
   ]
  },
  {
   "cell_type": "code",
   "execution_count": 9,
   "metadata": {},
   "outputs": [
    {
     "name": "stdout",
     "output_type": "stream",
     "text": [
      "[2, 4, 6]\n"
     ]
    }
   ],
   "source": [
    "result = even_numbers([1, 2, 3, 4, 5, 6])\n",
    "print(result)"
   ]
  },
  {
   "cell_type": "code",
   "execution_count": 8,
   "metadata": {},
   "outputs": [],
   "source": [
    "def even_numbers(numbers):\n",
    "    return [num for num in numbers if num % 2 == 0]"
   ]
  },
  {
   "attachments": {},
   "cell_type": "markdown",
   "metadata": {},
   "source": [
    "In this function, we use a list comprehension to create a new list containing only the even numbers from the original list. We start by iterating over each number in the input list using the for loop. For each number, we use the modulo operator % to check if it's even (i.e., if it has a remainder of 0 when divided by 2). If it is even, we include it in the new list. Finally, we return the resulting list.\n",
    "\n",
    "Write a Python function that takes two lists as input and returns a new list that contains the elements that are common to both input lists. Use a set comprehension to create the new list."
   ]
  },
  {
   "cell_type": "code",
   "execution_count": 13,
   "metadata": {},
   "outputs": [
    {
     "name": "stdout",
     "output_type": "stream",
     "text": [
      "[3, 4]\n"
     ]
    }
   ],
   "source": [
    "result = common_elements([1, 2, 3, 4], [3, 4, 5, 6])\n",
    "print(result)\n"
   ]
  },
  {
   "cell_type": "code",
   "execution_count": 12,
   "metadata": {},
   "outputs": [],
   "source": [
    "def common_elements(list1, list2):\n",
    "    return list(set(list1) & set(list2))"
   ]
  },
  {
   "attachments": {},
   "cell_type": "markdown",
   "metadata": {},
   "source": [
    "In this function, we use a set comprehension to create a set containing the elements that are common to both input lists. We start by creating two sets, one for each input list, using the set function. We then use the & operator to find the intersection of the two sets (i.e., the elements that are in both sets). Finally, we convert the resulting set back to a list and return it.\n",
    "\n",
    "Write a Python function that takes a list of numbers as input and returns a generator that yields only the unique numbers in the list. Use a set to keep track of the numbers you've seen so far."
   ]
  },
  {
   "cell_type": "code",
   "execution_count": 15,
   "metadata": {},
   "outputs": [
    {
     "name": "stdout",
     "output_type": "stream",
     "text": [
      "1\n",
      "2\n",
      "3\n",
      "4\n",
      "5\n",
      "6\n",
      "7\n"
     ]
    }
   ],
   "source": [
    "numbers = [1, 2, 2, 3, 4, 4, 5, 6, 6, 7, 7]\n",
    "for unique_num in unique_numbers(numbers):\n",
    "    print(unique_num)"
   ]
  },
  {
   "cell_type": "code",
   "execution_count": 14,
   "metadata": {},
   "outputs": [],
   "source": [
    "def unique_numbers(numbers):\n",
    "    seen = set()\n",
    "    for num in numbers:\n",
    "        if num not in seen:\n",
    "            seen.add(num)\n",
    "            yield num"
   ]
  },
  {
   "attachments": {},
   "cell_type": "markdown",
   "metadata": {},
   "source": [
    "Write a Python function that takes a string as input and returns a dictionary that maps each character in the string to its frequency. Use a dictionary comprehension to create the dictionary."
   ]
  },
  {
   "cell_type": "code",
   "execution_count": null,
   "metadata": {},
   "outputs": [],
   "source": [
    "def homework(input_str):\n",
    "    return {x: input_str.count(x) for x in set(input_str)}\n",
    "print(homework('apple'))"
   ]
  },
  {
   "attachments": {},
   "cell_type": "markdown",
   "metadata": {},
   "source": [
    "1. Write a function that takes a list of strings as input and returns a dictionary that maps each string to its length. Use a dictionary comprehension to create the dictionary.\n",
    "\n",
    "strings = ['hello', 'world', 'python', 'comprehensions']\n",
    "result = string_lengths(strings)\n",
    "print(result)  # {'hello': 5, 'world': 5, 'python': 6, 'comprehensions': 14}\n",
    "\n",
    "2. Write a function that takes a list of strings as input and returns a set containing all the unique words in the strings (i.e., excluding duplicates). Use a set comprehension to create the output set.\n",
    "\n",
    "strings = ['hello world', 'world python', 'python python']\n",
    "result = unique_words(strings)\n",
    "print(result)  # {'hello', 'world', 'python'}\n",
    "\n",
    "3. Write a function that takes a dictionary mapping names to ages as input and returns a dictionary mapping ages to lists of names. Use a dictionary comprehension and a list comprehension to create the output dictionary.\n",
    "\n",
    "name_age = {'Alice': 25, 'Bob': 30, 'Charlie': 25, 'David': 35, 'Eve': 30}\n",
    "result = age_to_names(name_age)\n",
    "print(result)  # {25: ['Alice', 'Charlie'], 30: ['Bob', 'Eve'], 35: ['David']}\n",
    "\n",
    "4. Write a function that takes a list of numbers as input and returns a generator that yields only the numbers that are greater than the average of all the numbers in the input list. Use a generator comprehension to create the generator.\n",
    "\n",
    "numbers = [1, 2, 3, 4, 5, 6, 7, 8, 9, 10]\n",
    "for num in greater_than_average(numbers):\n",
    "    print(num)\n",
    "# output:\n",
    "# 6\n",
    "# 7\n",
    "# 8\n",
    "# 9\n",
    "# 10\n",
    "\n",
    "5. Write a function that takes a list of numbers as input and returns a set containing all the numbers that are both even and divisible by 3. Use a set comprehension to create the output set.\n",
    "\n",
    "numbers = [1, 2, 3, 4, 5, 6, 7, 8, 9, 10, 12, 18]\n",
    "result = even_and_divisible_by_three(numbers)\n",
    "print(result)  # {6, 12, 18}"
   ]
  }
 ],
 "metadata": {
  "kernelspec": {
   "display_name": "Python 3",
   "language": "python",
   "name": "python3"
  },
  "language_info": {
   "codemirror_mode": {
    "name": "ipython",
    "version": 3
   },
   "file_extension": ".py",
   "mimetype": "text/x-python",
   "name": "python",
   "nbconvert_exporter": "python",
   "pygments_lexer": "ipython3",
   "version": "3.11.1"
  },
  "orig_nbformat": 4
 },
 "nbformat": 4,
 "nbformat_minor": 2
}
