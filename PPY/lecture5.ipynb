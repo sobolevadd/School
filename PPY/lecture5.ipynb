{
 "cells": [
  {
   "attachments": {},
   "cell_type": "markdown",
   "metadata": {},
   "source": [
    "Object-oriented programming (OOP)\n",
    "\n",
    "... is a programming paradigm that focuses on the creation of objects that contain both data and behavior. Python supports OOP and provides robust support for OOP concepts. Here are the main OOP concepts in Python and their uses:\n",
    "\n",
    "1. Classes and Objects: A class is a blueprint for creating objects, while an object is an instance of a class. Classes define the properties and methods that all objects of that class will have. You can use classes and objects in Python to organize your code and create reusable code modules.\n",
    "\n",
    "2. Inheritance: Inheritance is a way to create a new class based on an existing class. The new class inherits all the properties and methods of the existing class and can add new functionality or modify existing functionality. You can use inheritance in Python to reuse code and create new classes quickly.\n",
    "\n",
    "3. Polymorphism: Polymorphism is the ability of objects of different classes to respond to the same message or method call. In Python, you can achieve polymorphism through method overloading and method overriding.\n",
    "\n",
    "4. Encapsulation: Encapsulation is a way to hide the implementation details of a class from the outside world. In Python, you can use access modifiers like private and protected to control the access to the properties and methods of a class."
   ]
  },
  {
   "cell_type": "code",
   "execution_count": 1,
   "metadata": {},
   "outputs": [
    {
     "name": "stdout",
     "output_type": "stream",
     "text": [
      "Toyota\n",
      "Corolla\n",
      "2018\n",
      "Toyota Corolla (2018)\n"
     ]
    }
   ],
   "source": [
    "# Define a class\n",
    "class Car:\n",
    "    def __init__(self, make, model, year):\n",
    "        self.make = make\n",
    "        self.model = model\n",
    "        self.year = year\n",
    "\n",
    "    def get_make(self):\n",
    "        return self.make\n",
    "\n",
    "    def get_model(self):\n",
    "        return self.model\n",
    "\n",
    "    def get_year(self):\n",
    "        return self.year\n",
    "\n",
    "    def __str__(self):\n",
    "        return f\"{self.make} {self.model} ({self.year})\"\n",
    "\n",
    "# Create an object of the class\n",
    "car1 = Car(\"Toyota\", \"Corolla\", 2018)\n",
    "\n",
    "# Access properties and methods of the object\n",
    "print(car1.get_make()) # Output: Toyota\n",
    "print(car1.get_model()) # Output: Corolla\n",
    "print(car1.get_year()) # Output: 2018\n",
    "print(car1) # Output: Toyota Corolla (2018)"
   ]
  },
  {
   "attachments": {},
   "cell_type": "markdown",
   "metadata": {},
   "source": [
    "In this example, we define a Car class with properties like make, model, and year, and methods like get_make(), get_model(), and get_year(). We also define a str() method to provide a string representation of the object. We then create an object of the class (car1) and access its properties and methods.\n",
    "\n",
    "An important note\n",
    "\n",
    "Some say that you are a better programmer if you follow the OOP principles. But IMHO it not always the case. You will become better programmer if you can choose the right tool for the task you are solving. Let me show you one example where OOP helped me greately."
   ]
  },
  {
   "attachments": {},
   "cell_type": "markdown",
   "metadata": {},
   "source": [
    "Create a Shape class that represents a two-dimensional shape, with subclasses like Circle, Square, and Rectangle. Each subclass should have properties like the length of its sides, its area, and its perimeter. You can also define methods like resize() and draw()."
   ]
  },
  {
   "cell_type": "code",
   "execution_count": 2,
   "metadata": {},
   "outputs": [
    {
     "ename": "NameError",
     "evalue": "name 'Circle' is not defined",
     "output_type": "error",
     "traceback": [
      "\u001b[0;31m---------------------------------------------------------------------------\u001b[0m",
      "\u001b[0;31mNameError\u001b[0m                                 Traceback (most recent call last)",
      "Cell \u001b[0;32mIn[2], line 2\u001b[0m\n\u001b[1;32m      1\u001b[0m \u001b[39m# Create some shapes\u001b[39;00m\n\u001b[0;32m----> 2\u001b[0m circle \u001b[39m=\u001b[39m Circle(\u001b[39m5\u001b[39m)\n\u001b[1;32m      3\u001b[0m square \u001b[39m=\u001b[39m Square(\u001b[39m10\u001b[39m)\n\u001b[1;32m      4\u001b[0m rectangle \u001b[39m=\u001b[39m Rectangle(\u001b[39m10\u001b[39m, \u001b[39m5\u001b[39m)\n",
      "\u001b[0;31mNameError\u001b[0m: name 'Circle' is not defined"
     ]
    }
   ],
   "source": [
    "# Create some shapes\n",
    "circle = Circle(5)\n",
    "square = Square(10)\n",
    "rectangle = Rectangle(10, 5)\n",
    "\n",
    "# Get the area and perimeter of each shape\n",
    "print(\"Circle area:\", circle.area()) # Output: Circle area: 78.53981633974483\n",
    "print(\"Circle perimeter:\", circle.perimeter()) # Output: Circle perimeter: 31.41592653589793\n",
    "print(\"Square area:\", square.area()) # Output: Square area: 100\n",
    "print(\"Square perimeter:\", square.perimeter()) # Output: Square perimeter: 40\n",
    "print(\"Rectangle area:\", rectangle.area()) # Output: Rectangle area: 50\n",
    "print(\"Rectangle perimeter:\", rectangle.perimeter()) # Output: Rectangle perimeter: 30\n",
    "\n",
    "# Resize the shapes\n",
    "circle.resize(2)\n",
    "square.resize(0.5)\n",
    "rectangle.resize(1.5)\n",
    "\n",
    "# Draw the shapes (not really plots... yet!)\n",
    "circle.draw() # Output: Drawing shape\n",
    "square.draw() # Output: Drawing shape\n",
    "rectangle.draw() # Output: Drawing shape"
   ]
  }
 ],
 "metadata": {
  "kernelspec": {
   "display_name": "Python 3",
   "language": "python",
   "name": "python3"
  },
  "language_info": {
   "codemirror_mode": {
    "name": "ipython",
    "version": 3
   },
   "file_extension": ".py",
   "mimetype": "text/x-python",
   "name": "python",
   "nbconvert_exporter": "python",
   "pygments_lexer": "ipython3",
   "version": "3.11.1"
  },
  "orig_nbformat": 4
 },
 "nbformat": 4,
 "nbformat_minor": 2
}
