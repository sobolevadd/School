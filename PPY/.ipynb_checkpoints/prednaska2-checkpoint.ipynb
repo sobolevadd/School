{
 "cells": [
  {
   "cell_type": "code",
   "execution_count": 1,
   "id": "10679bc9",
   "metadata": {},
   "outputs": [
    {
     "name": "stdout",
     "output_type": "stream",
     "text": [
      "10\n",
      "<class 'int'>\n"
     ]
    }
   ],
   "source": [
    "x = 10\n",
    "print(x)\n",
    "print(type(x))\n"
   ]
  },
  {
   "cell_type": "code",
   "execution_count": 3,
   "id": "97a74459",
   "metadata": {},
   "outputs": [
    {
     "name": "stdout",
     "output_type": "stream",
     "text": [
      "<class 'str'>\n",
      "Hello world\n"
     ]
    }
   ],
   "source": [
    "x = 'Hello world'\n",
    "print(type(x))\n",
    "print(x)"
   ]
  },
  {
   "cell_type": "code",
   "execution_count": 12,
   "id": "4dfb6a54",
   "metadata": {},
   "outputs": [
    {
     "name": "stdout",
     "output_type": "stream",
     "text": [
      "x is zero\n"
     ]
    }
   ],
   "source": [
    "x = 0\n",
    "if x > 0:\n",
    "    print('x is positive')\n",
    "elif x == 0:\n",
    "    print('x is zero')\n",
    "else:\n",
    "    print(\"x isn't positive\")\n"
   ]
  },
  {
   "cell_type": "code",
   "execution_count": 11,
   "id": "8f9fd00c",
   "metadata": {},
   "outputs": [
    {
     "name": "stdout",
     "output_type": "stream",
     "text": [
      "x is positive\n"
     ]
    }
   ],
   "source": [
    "x = 0\n",
    "if x >= 0:\n",
    "    print('x is positive')\n",
    "elif x == 0:\n",
    "    print('x is zero')\n",
    "else:\n",
    "    print(\"x isn't positive\")\n"
   ]
  },
  {
   "cell_type": "code",
   "execution_count": 13,
   "id": "8fb47477",
   "metadata": {},
   "outputs": [
    {
     "name": "stdout",
     "output_type": "stream",
     "text": [
      "x is greater then 0\n"
     ]
    }
   ],
   "source": [
    "x = 5\n",
    "if x > 0: print('x is greater then 0')"
   ]
  },
  {
   "cell_type": "code",
   "execution_count": 14,
   "id": "68c0257a",
   "metadata": {},
   "outputs": [
    {
     "ename": "IndentationError",
     "evalue": "unexpected indent (2703864940.py, line 3)",
     "output_type": "error",
     "traceback": [
      "\u001b[0;36m  Cell \u001b[0;32mIn[14], line 3\u001b[0;36m\u001b[0m\n\u001b[0;31m    print('xx')\u001b[0m\n\u001b[0m    ^\u001b[0m\n\u001b[0;31mIndentationError\u001b[0m\u001b[0;31m:\u001b[0m unexpected indent\n"
     ]
    }
   ],
   "source": [
    "x = 5\n",
    "if x > 0: print('x is greater then 0')\n",
    "    print('xx')"
   ]
  },
  {
   "cell_type": "code",
   "execution_count": 16,
   "id": "f7f64c95",
   "metadata": {},
   "outputs": [
    {
     "name": "stdout",
     "output_type": "stream",
     "text": [
      "xx\n"
     ]
    }
   ],
   "source": [
    "x = -5\n",
    "if x > 0: print('x is greater then 0')\n",
    "print('xx')"
   ]
  },
  {
   "cell_type": "code",
   "execution_count": 18,
   "id": "2c17dd63",
   "metadata": {},
   "outputs": [
    {
     "name": "stdout",
     "output_type": "stream",
     "text": [
      "x is greater then 0\n"
     ]
    }
   ],
   "source": [
    "x = 5\n",
    "print ('x is greater then 0') if x > 0 else print('x is NOT greater than zero')"
   ]
  },
  {
   "cell_type": "code",
   "execution_count": null,
   "id": "1e29064c",
   "metadata": {
    "slideshow": {
     "slide_type": "notes"
    }
   },
   "outputs": [],
   "source": [
    "OPERATIONS:\n",
    "== (equal to ) != (not equal to) < > <= >=\n",
    "and (returns True if both conditions are true)\n",
    "or (returns True if either condition is true)\n",
    "not (returns the opposite of the condition)\n",
    "is (returns True if the two objects are the same object)\n",
    "is not (returns True if the two objects are not the same object)\n",
    "in (returns True if the value is in the sequence)\n",
    "not in (returns True if the value is not in the sequence)"
   ]
  },
  {
   "cell_type": "markdown",
   "id": "fe48f8c0",
   "metadata": {},
   "source": [
    "a = None\n",
    "print (a is not None)"
   ]
  }
 ],
 "metadata": {
  "celltoolbar": "Slideshow",
  "kernelspec": {
   "display_name": "Python 3 (ipykernel)",
   "language": "python",
   "name": "python3"
  },
  "language_info": {
   "codemirror_mode": {
    "name": "ipython",
    "version": 3
   },
   "file_extension": ".py",
   "mimetype": "text/x-python",
   "name": "python",
   "nbconvert_exporter": "python",
   "pygments_lexer": "ipython3",
   "version": "3.11.1"
  }
 },
 "nbformat": 4,
 "nbformat_minor": 5
}
