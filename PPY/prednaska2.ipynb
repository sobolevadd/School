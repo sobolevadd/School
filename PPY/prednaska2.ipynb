{
 "cells": [
  {
   "attachments": {},
   "cell_type": "markdown",
   "id": "ed5f8f04",
   "metadata": {},
   "source": [
    "OPERATIONS:\n",
    "\n",
    "==          (equal to ) \n",
    "\n",
    "!=          (not equal to) \n",
    "\n",
    "< > <= >=\n",
    "\n",
    "and         (returns True if both conditions are true)\n",
    "\n",
    "or          (returns True if either condition is true)\n",
    "\n",
    "not         (returns the opposite of the condition)\n",
    "\n",
    "is          (returns True if the two objects are the same object)\n",
    "\n",
    "is not      (returns True if the two objects are not the same object)\n",
    "\n",
    "in          (returns True if the value is in the sequence)\n",
    "\n",
    "not in      (returns True if the value is not in the sequence)\n",
    "\n",
    "break       (statement, to skip further code exectution and iterations)\n",
    "\n",
    "continue    (continues with the next iteration of the loop)\n",
    "\n",
    "def         (when you want to define your own function)\n",
    "\n",
    "*args       (This allows a function to accept an arbitrary number of positional arguments)\n",
    "\n",
    "**kwargs    (This allows a function to accept an arbitrary number of keyword arguments)\n",
    "\n",
    "switch\n",
    "\n",
    "split\n"
   ]
  },
  {
   "cell_type": "code",
   "execution_count": 1,
   "id": "748641a8",
   "metadata": {},
   "outputs": [
    {
     "name": "stdout",
     "output_type": "stream",
     "text": [
      "10\n",
      "<class 'int'>\n"
     ]
    }
   ],
   "source": [
    "x = 10\n",
    "print(x)\n",
    "print(type(x))\n"
   ]
  },
  {
   "cell_type": "code",
   "execution_count": 3,
   "id": "5d4dbda0",
   "metadata": {},
   "outputs": [
    {
     "name": "stdout",
     "output_type": "stream",
     "text": [
      "<class 'str'>\n",
      "Hello world\n"
     ]
    }
   ],
   "source": [
    "x = 'Hello world'\n",
    "print(type(x))\n",
    "print(x)"
   ]
  },
  {
   "cell_type": "code",
   "execution_count": 12,
   "id": "2e264b07",
   "metadata": {},
   "outputs": [
    {
     "name": "stdout",
     "output_type": "stream",
     "text": [
      "x is zero\n"
     ]
    }
   ],
   "source": [
    "x = 0\n",
    "if x > 0:\n",
    "    print('x is positive')\n",
    "elif x == 0:\n",
    "    print('x is zero')\n",
    "else:\n",
    "    print(\"x isn't positive\")\n"
   ]
  },
  {
   "cell_type": "code",
   "execution_count": 11,
   "id": "a24e13af",
   "metadata": {},
   "outputs": [
    {
     "name": "stdout",
     "output_type": "stream",
     "text": [
      "x is positive\n"
     ]
    }
   ],
   "source": [
    "x = 0\n",
    "if x >= 0:\n",
    "    print('x is positive')\n",
    "elif x == 0:\n",
    "    print('x is zero')\n",
    "else:\n",
    "    print(\"x isn't positive\")\n"
   ]
  },
  {
   "cell_type": "code",
   "execution_count": 13,
   "id": "cab0620b",
   "metadata": {},
   "outputs": [
    {
     "name": "stdout",
     "output_type": "stream",
     "text": [
      "x is greater then 0\n"
     ]
    }
   ],
   "source": [
    "x = 5\n",
    "if x > 0: print('x is greater then 0')"
   ]
  },
  {
   "cell_type": "code",
   "execution_count": 14,
   "id": "606bc740",
   "metadata": {},
   "outputs": [
    {
     "ename": "IndentationError",
     "evalue": "unexpected indent (2703864940.py, line 3)",
     "output_type": "error",
     "traceback": [
      "\u001b[0;36m  Cell \u001b[0;32mIn[14], line 3\u001b[0;36m\u001b[0m\n\u001b[0;31m    print('xx')\u001b[0m\n\u001b[0m    ^\u001b[0m\n\u001b[0;31mIndentationError\u001b[0m\u001b[0;31m:\u001b[0m unexpected indent\n"
     ]
    }
   ],
   "source": [
    "x = 5\n",
    "if x > 0: print('x is greater then 0')\n",
    "    print('xx')"
   ]
  },
  {
   "cell_type": "code",
   "execution_count": 16,
   "id": "73f6d7d6",
   "metadata": {},
   "outputs": [
    {
     "name": "stdout",
     "output_type": "stream",
     "text": [
      "xx\n"
     ]
    }
   ],
   "source": [
    "x = -5\n",
    "if x > 0: print('x is greater then 0')\n",
    "print('xx')"
   ]
  },
  {
   "cell_type": "code",
   "execution_count": 18,
   "id": "ee1a1955",
   "metadata": {},
   "outputs": [
    {
     "name": "stdout",
     "output_type": "stream",
     "text": [
      "x is greater then 0\n"
     ]
    }
   ],
   "source": [
    "x = 5\n",
    "print ('x is greater then 0') if x > 0 else print('x is NOT greater than zero')"
   ]
  },
  {
   "cell_type": "code",
   "execution_count": 19,
   "id": "619cada3",
   "metadata": {},
   "outputs": [
    {
     "name": "stdout",
     "output_type": "stream",
     "text": [
      "False\n"
     ]
    }
   ],
   "source": [
    "a = None \n",
    "print (a is not None)"
   ]
  },
  {
   "cell_type": "code",
   "execution_count": 20,
   "id": "b82384cb",
   "metadata": {},
   "outputs": [
    {
     "name": "stdout",
     "output_type": "stream",
     "text": [
      "x is 5 and 2 is in y\n"
     ]
    }
   ],
   "source": [
    "x = 5\n",
    "y = [1, 2, 3]\n",
    "\n",
    "if x == 5 and 2 in y:\n",
    "    print(\"x is 5 and 2 is in y\")\n",
    "else:\n",
    "    print(\"condition not met\")"
   ]
  },
  {
   "cell_type": "code",
   "execution_count": 21,
   "id": "387ce116",
   "metadata": {},
   "outputs": [
    {
     "name": "stdout",
     "output_type": "stream",
     "text": [
      "condition not met\n"
     ]
    }
   ],
   "source": [
    "x = 5\n",
    "y = [1, 3]\n",
    "\n",
    "if x == 5 and 2 in y:\n",
    "    print(\"x is 5 and 2 is in y\")\n",
    "else:\n",
    "    print(\"condition not met\")"
   ]
  },
  {
   "cell_type": "code",
   "execution_count": 1,
   "id": "66b2f15b",
   "metadata": {},
   "outputs": [
    {
     "name": "stdout",
     "output_type": "stream",
     "text": [
      "0\n",
      "1\n",
      "2\n",
      "3\n",
      "4\n"
     ]
    }
   ],
   "source": [
    "i = 0\n",
    "while i < 5:\n",
    "    print(i)\n",
    "    i += 1\n",
    "    "
   ]
  },
  {
   "cell_type": "code",
   "execution_count": 7,
   "id": "82e4162c",
   "metadata": {},
   "outputs": [
    {
     "name": "stdout",
     "output_type": "stream",
     "text": [
      "apple\n",
      "banana\n",
      "cherry\n"
     ]
    }
   ],
   "source": [
    "fruits = ['apple', 'banana', 'cherry']\n",
    "for f in fruits:\n",
    "    print(f)\n"
   ]
  },
  {
   "cell_type": "code",
   "execution_count": 5,
   "id": "4b0bfe68",
   "metadata": {},
   "outputs": [
    {
     "name": "stdout",
     "output_type": "stream",
     "text": [
      "apple\n"
     ]
    }
   ],
   "source": [
    "fruits = ['apple', 'banana', 'cherry']\n",
    "for fruit in fruits:\n",
    "    if fruit == 'banana':\n",
    "        break\n",
    "    print(fruit)"
   ]
  },
  {
   "cell_type": "code",
   "execution_count": 6,
   "id": "f57cd5fa",
   "metadata": {},
   "outputs": [
    {
     "name": "stdout",
     "output_type": "stream",
     "text": [
      "apple\n",
      "cherry\n"
     ]
    }
   ],
   "source": [
    "fruits = ['apple', 'banana', 'cherry']\n",
    "for fruit in fruits:\n",
    "    if fruit == 'banana':\n",
    "        continue\n",
    "    print(fruit)"
   ]
  },
  {
   "cell_type": "code",
   "execution_count": 9,
   "id": "bc28cf5a",
   "metadata": {},
   "outputs": [
    {
     "name": "stdout",
     "output_type": "stream",
     "text": [
      "10 80.3 3.576.8\n"
     ]
    }
   ],
   "source": [
    "def add_two_numbers(x, y):\n",
    "    return x + y\n",
    "result = add_two_numbers(3, 7)\n",
    "result_2 = add_two_numbers(3.5, 76.8)\n",
    "result_3 = add_two_numbers('3.5', '76.8')\n",
    "print (result, result_2, result_3)"
   ]
  },
  {
   "cell_type": "code",
   "execution_count": 15,
   "id": "0829c304",
   "metadata": {},
   "outputs": [
    {
     "name": "stdout",
     "output_type": "stream",
     "text": [
      "------------------------------------------------------------\n"
     ]
    }
   ],
   "source": [
    "print(\"-\"*60)"
   ]
  },
  {
   "cell_type": "code",
   "execution_count": 17,
   "id": "7aa8b76d",
   "metadata": {},
   "outputs": [
    {
     "name": "stdout",
     "output_type": "stream",
     "text": [
      "Hi John\n",
      "Hi John\n"
     ]
    }
   ],
   "source": [
    "def greet(name, greeting):\n",
    "    print(greeting, name)\n",
    "\n",
    "greet(\"John\", \"Hi\")\n",
    "greet( name = 'John', greeting = 'Hi')"
   ]
  },
  {
   "cell_type": "code",
   "execution_count": 18,
   "id": "2d109c27",
   "metadata": {},
   "outputs": [
    {
     "name": "stdout",
     "output_type": "stream",
     "text": [
      "Hi John\n"
     ]
    }
   ],
   "source": [
    "def greet(name, greeting = 'Hi'):\n",
    "    print(greeting, name)\n",
    "\n",
    "greet(\"John\")\n",
    "   \n"
   ]
  },
  {
   "cell_type": "code",
   "execution_count": 20,
   "id": "dacf7f82",
   "metadata": {},
   "outputs": [
    {
     "name": "stdout",
     "output_type": "stream",
     "text": [
      "<class 'tuple'>\n",
      "Hello Alice\n",
      "Hello Bob\n",
      "Hello Charlie\n"
     ]
    }
   ],
   "source": [
    "def greet(*names):\n",
    "    print(type(names))\n",
    "    for n in names:\n",
    "        print('Hello', n)\n",
    "\n",
    "greet('Alice', 'Bob', 'Charlie')"
   ]
  },
  {
   "cell_type": "code",
   "execution_count": 21,
   "id": "6e34701a",
   "metadata": {},
   "outputs": [
    {
     "name": "stdout",
     "output_type": "stream",
     "text": [
      "<class 'dict'>\n",
      "Hi Alice\n",
      "Hello Bob\n",
      "Ciao Andrea\n"
     ]
    }
   ],
   "source": [
    "def greet(**kwargs):\n",
    "    print(type(kwargs))\n",
    "    for name, greeting in kwargs.items():\n",
    "        print(greeting, name)\n",
    "\n",
    "greet(Alice='Hi', Bob='Hello', Andrea='Ciao')"
   ]
  },
  {
   "cell_type": "code",
   "execution_count": 2,
   "id": "895260e2",
   "metadata": {},
   "outputs": [
    {
     "name": "stdout",
     "output_type": "stream",
     "text": [
      "Hello\n",
      "olleH\n",
      "World\n",
      "dlroW\n"
     ]
    }
   ],
   "source": [
    "for t in 'Hello World'.split(' '):\n",
    "    print(t)\n",
    "    print(t[::-1])"
   ]
  },
  {
   "cell_type": "code",
   "execution_count": 29,
   "id": "0f36e626",
   "metadata": {},
   "outputs": [
    {
     "name": "stdout",
     "output_type": "stream",
     "text": [
      "Hello\n",
      "World\n"
     ]
    }
   ],
   "source": [
    "for t in 'Hello World'.split(' '): \n",
    "    print(t)"
   ]
  },
  {
   "cell_type": "code",
   "execution_count": 23,
   "id": "3d629c79",
   "metadata": {},
   "outputs": [
    {
     "name": "stdout",
     "output_type": "stream",
     "text": [
      "dlrow olleH\n"
     ]
    }
   ],
   "source": [
    "txt = \"Hello world\"[::-1]\n",
    "print(txt)"
   ]
  }
 ],
 "metadata": {
  "celltoolbar": "Slideshow",
  "kernelspec": {
   "display_name": "Python 3",
   "language": "python",
   "name": "python3"
  },
  "language_info": {
   "codemirror_mode": {
    "name": "ipython",
    "version": 3
   },
   "file_extension": ".py",
   "mimetype": "text/x-python",
   "name": "python",
   "nbconvert_exporter": "python",
   "pygments_lexer": "ipython3",
   "version": "3.11.1"
  },
  "vscode": {
   "interpreter": {
    "hash": "aee8b7b246df8f9039afb4144a1f6fd8d2ca17a180786b69acc140d282b71a49"
   }
  }
 },
 "nbformat": 4,
 "nbformat_minor": 5
}
