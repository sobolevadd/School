{
 "cells": [
  {
   "cell_type": "code",
   "execution_count": 6,
   "metadata": {},
   "outputs": [
    {
     "ename": "ModuleNotFoundError",
     "evalue": "No module named 'matplotlib'",
     "output_type": "error",
     "traceback": [
      "\u001b[0;31m---------------------------------------------------------------------------\u001b[0m",
      "\u001b[0;31mModuleNotFoundError\u001b[0m                       Traceback (most recent call last)",
      "Cell \u001b[0;32mIn[6], line 1\u001b[0m\n\u001b[0;32m----> 1\u001b[0m \u001b[39mimport\u001b[39;00m \u001b[39mmatplotlib\u001b[39;00m \u001b[39mas\u001b[39;00m \u001b[39mplt\u001b[39;00m\n\u001b[1;32m      2\u001b[0m \u001b[39mimport\u001b[39;00m \u001b[39mnumpy\u001b[39;00m \u001b[39mas\u001b[39;00m \u001b[39mnp\u001b[39;00m\n\u001b[1;32m      4\u001b[0m y \u001b[39m=\u001b[39m np\u001b[39m.\u001b[39marange(\u001b[39m10\u001b[39m)  \u001b[39m# čísla od 0 do 9\u001b[39;00m\n",
      "\u001b[0;31mModuleNotFoundError\u001b[0m: No module named 'matplotlib'"
     ]
    }
   ],
   "source": [
    "import matplotlib as plt\n",
    "import numpy as np\n",
    "\n",
    "y = np.arange(10)  # čísla od 0 do 9\n",
    "\n",
    "plt.figure()  # vytvoří obrázek\n",
    "plt.plot(y, '+')  # vykreslí y\n",
    "plt.xlabel('Indexy [-]')\n",
    "plt.ylabel('Hodnoty [-]')\n",
    "plt.show()  # ukáže obrázek na výstupu\n",
    "\n",
    "x = np.linspace(10, 19, 10)  # hodnoty nezávisle proměnné\n",
    "\n",
    "plt.figure()\n",
    "plt.plot(x, y, marker='+', ls='', color='Blue', label='testovací řada')\n",
    "plt.xlabel('X [-]')\n",
    "plt.ylabel('Hodnoty [-]')\n",
    "plt.legend()\n",
    "plt.savefig('figs/test.png')  # musí byt uloženo před zobrazením\n",
    "plt.show()\n",
    "\n",
    "plt.rcParams['font.family'] = 'serif'  # patkové písmo podobné Tex fontu\n",
    "# plt.rcParams['font.family'] = 'Computer Modern'  # standardní font používaný Texem, může vyžadovat instalaci\n",
    "plt.rcParams['font.size'] = 10  # velikost písma (nastavit podle velikosti písma v protokolu)\n",
    "plt.rcParams['errorbar.capsize'] = 3  # velikost zakončení errorbaru\n",
    "plt.rcParams['lines.linestyle'] = ''  # nespojuje body čarou\n",
    "plt.rcParams['lines.marker'] = '+'  # používá symbol `+` pro označení bodu\n",
    "plt.rcParams['mathtext.fontset'] = 'cm'  # Computer modern\n",
    "\n",
    "yerr = 0.1 * y + 0.1 # vytvoření odhadu chyb z proměnné y\n",
    "\n",
    "fig = plt.figure(figsize=(5, 2),  # velikost obrázku v palcích (šířka, výška)\n",
    "                 dpi=150,  # kvalita (rozlišení) obrázku uváděné v dots per inch\n",
    "                 )\n",
    "ax = fig.subplots()  # přidá osy do obrázku, tj. objekt do kterého lze kreslit\n",
    "\n",
    "ax.set_xlabel(r'$\\tau$ [s]', fontsize=10)  # popisek vodorovné osy\n",
    "# ax.set_xlim(5, 20)  # nastaví rozsah vodorovné osy\n",
    "\n",
    "ax.yaxis.tick_right()  # hodnoty svisle osy napravo\n",
    "ax.yaxis.set_label_position('right')  # popisek svisle osy napravo\n",
    "ax.set_ylabel(r'$\\varepsilon$ [s]')  # popisek svisle osy\n",
    "\n",
    "# ax.plot(x, y, label='prostá čára')  # obyčejné vykresleni\n",
    "ax.errorbar(x, y, \n",
    "            yerr=yerr, \n",
    "            label='hodnoty s ebary', \n",
    "            color='XKCD:Navy blue',\n",
    "            marker='x',  # výchozí hodnoty lze přepsat\n",
    "            ) \n",
    "ax.legend(fontsize=8)\n",
    "\n",
    "plt.show()\n",
    "\n",
    "fig.savefig('figs/test1.png')"
   ]
  }
 ],
 "metadata": {
  "kernelspec": {
   "display_name": "Python 3",
   "language": "python",
   "name": "python3"
  },
  "language_info": {
   "codemirror_mode": {
    "name": "ipython",
    "version": 3
   },
   "file_extension": ".py",
   "mimetype": "text/x-python",
   "name": "python",
   "nbconvert_exporter": "python",
   "pygments_lexer": "ipython3",
   "version": "3.11.1"
  },
  "orig_nbformat": 4
 },
 "nbformat": 4,
 "nbformat_minor": 2
}
