{
 "cells": [
  {
   "cell_type": "code",
   "execution_count": 10,
   "metadata": {},
   "outputs": [],
   "source": [
    "def string_lengths(strings):\n",
    "    return {s: len(s) for s in strings}"
   ]
  },
  {
   "cell_type": "code",
   "execution_count": 11,
   "metadata": {},
   "outputs": [
    {
     "name": "stdout",
     "output_type": "stream",
     "text": [
      "{'hello': 5, 'world': 5, 'python': 6, 'comprehensions': 14}\n"
     ]
    }
   ],
   "source": [
    "strings = ['hello', 'world', 'python', 'comprehensions']\n",
    "result = string_lengths(strings)\n",
    "print(result)  # {'hello': 5, 'world': 5, 'python': 6, 'comprehensions': 14}"
   ]
  },
  {
   "cell_type": "code",
   "execution_count": 12,
   "metadata": {},
   "outputs": [],
   "source": [
    "def unique_words(strings):\n",
    "    return {word for string in strings for word in string.split()}"
   ]
  },
  {
   "cell_type": "code",
   "execution_count": 13,
   "metadata": {},
   "outputs": [
    {
     "name": "stdout",
     "output_type": "stream",
     "text": [
      "{'hello', 'world', 'python'}\n"
     ]
    }
   ],
   "source": [
    "strings = ['hello world', 'world python', 'python python']\n",
    "result = unique_words(strings)\n",
    "print(result)  # {'hello', 'world', 'python'}"
   ]
  },
  {
   "cell_type": "code",
   "execution_count": 14,
   "metadata": {},
   "outputs": [],
   "source": [
    "def age_to_names(name_to_age):\n",
    "    names = name_to_age.items()\n",
    "    ages = name_to_age.values()\n",
    "    return {age: [name for name, age_ in names if age_ == age] for age in set(ages)}"
   ]
  },
  {
   "cell_type": "code",
   "execution_count": 15,
   "metadata": {},
   "outputs": [
    {
     "name": "stdout",
     "output_type": "stream",
     "text": [
      "{25: ['Alice', 'Charlie'], 35: ['David'], 30: ['Bob', 'Eve']}\n"
     ]
    }
   ],
   "source": [
    "name_age = {'Alice': 25, 'Bob': 30, 'Charlie': 25, 'David': 35, 'Eve': 30}\n",
    "result = age_to_names(name_age)\n",
    "print(result)  # {25: ['Alice', 'Charlie'], 30: ['Bob', 'Eve'], 35: ['David']}"
   ]
  },
  {
   "cell_type": "code",
   "execution_count": 16,
   "metadata": {},
   "outputs": [],
   "source": [
    "def greater_than_average(numbers):\n",
    "    average = sum(numbers) / len(numbers)\n",
    "    return (num for num in numbers if num > average)"
   ]
  },
  {
   "cell_type": "code",
   "execution_count": 17,
   "metadata": {},
   "outputs": [
    {
     "name": "stdout",
     "output_type": "stream",
     "text": [
      "6\n",
      "7\n",
      "8\n",
      "9\n",
      "10\n"
     ]
    }
   ],
   "source": [
    "numbers = [1, 2, 3, 4, 5, 6, 7, 8, 9, 10]\n",
    "for num in greater_than_average(numbers):\n",
    "    print(num)"
   ]
  },
  {
   "cell_type": "code",
   "execution_count": 18,
   "metadata": {},
   "outputs": [],
   "source": [
    "def even_and_divisible_by_three(numbers):\n",
    "    return {num for num in numbers if num % 2 == 0 and num % 3 == 0}"
   ]
  },
  {
   "cell_type": "code",
   "execution_count": 19,
   "metadata": {},
   "outputs": [
    {
     "name": "stdout",
     "output_type": "stream",
     "text": [
      "{18, 12, 6}\n"
     ]
    }
   ],
   "source": [
    "numbers = [1, 2, 3, 4, 5, 6, 7, 8, 9, 10, 12, 18]\n",
    "result = even_and_divisible_by_three(numbers)\n",
    "print(result)  # {6, 12, 18}"
   ]
  }
 ],
 "metadata": {
  "kernelspec": {
   "display_name": "Python 3",
   "language": "python",
   "name": "python3"
  },
  "language_info": {
   "codemirror_mode": {
    "name": "ipython",
    "version": 3
   },
   "file_extension": ".py",
   "mimetype": "text/x-python",
   "name": "python",
   "nbconvert_exporter": "python",
   "pygments_lexer": "ipython3",
   "version": "3.11.1"
  },
  "orig_nbformat": 4
 },
 "nbformat": 4,
 "nbformat_minor": 2
}
